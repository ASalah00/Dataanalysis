{
 "cells": [
  {
   "cell_type": "code",
   "execution_count": 63,
   "id": "8cc083d5",
   "metadata": {},
   "outputs": [],
   "source": [
    "import pandas as pd \n",
    "from pandas import DataFrame as df\n",
    "import numpy as np\n",
    "import re\n",
    "import datetime as dt\n",
    "import matplotlib.pyplot as plt\n"
   ]
  },
  {
   "cell_type": "markdown",
   "id": "f83349e6",
   "metadata": {},
   "source": [
    "## Reading the dataset"
   ]
  },
  {
   "cell_type": "code",
   "execution_count": 64,
   "id": "d444ad89",
   "metadata": {},
   "outputs": [
    {
     "data": {
      "text/html": [
       "<div>\n",
       "<style scoped>\n",
       "    .dataframe tbody tr th:only-of-type {\n",
       "        vertical-align: middle;\n",
       "    }\n",
       "\n",
       "    .dataframe tbody tr th {\n",
       "        vertical-align: top;\n",
       "    }\n",
       "\n",
       "    .dataframe thead th {\n",
       "        text-align: right;\n",
       "    }\n",
       "</style>\n",
       "<table border=\"1\" class=\"dataframe\">\n",
       "  <thead>\n",
       "    <tr style=\"text-align: right;\">\n",
       "      <th></th>\n",
       "      <th>job_title</th>\n",
       "      <th>company</th>\n",
       "      <th>job_description</th>\n",
       "      <th>Unnamed: 3</th>\n",
       "      <th>Unnamed: 4</th>\n",
       "      <th>Unnamed: 5</th>\n",
       "      <th>Unnamed: 6</th>\n",
       "      <th>Unnamed: 7</th>\n",
       "      <th>Unnamed: 8</th>\n",
       "      <th>Unnamed: 9</th>\n",
       "    </tr>\n",
       "  </thead>\n",
       "  <tbody>\n",
       "    <tr>\n",
       "      <th>0</th>\n",
       "      <td>Business Development Specialist - Upper Egypt</td>\n",
       "      <td>golden</td>\n",
       "      <td>Full Time · Experienced · 2+ Yrs of Exp · Bus...</td>\n",
       "      <td>2021</td>\n",
       "      <td>NaN</td>\n",
       "      <td>NaN</td>\n",
       "      <td>NaN</td>\n",
       "      <td>NaN</td>\n",
       "      <td>NaN</td>\n",
       "      <td>NaN</td>\n",
       "    </tr>\n",
       "    <tr>\n",
       "      <th>1</th>\n",
       "      <td>Senior/Intermediate .NET Core Developer (Remot...</td>\n",
       "      <td>Confidential</td>\n",
       "      <td>Full Time · Experienced · 4+ Yrs of Exp · Sof...</td>\n",
       "      <td>2021</td>\n",
       "      <td>NaN</td>\n",
       "      <td>NaN</td>\n",
       "      <td>NaN</td>\n",
       "      <td>NaN</td>\n",
       "      <td>NaN</td>\n",
       "      <td>NaN</td>\n",
       "    </tr>\n",
       "    <tr>\n",
       "      <th>2</th>\n",
       "      <td>Senior Software Developer</td>\n",
       "      <td>Bnsights</td>\n",
       "      <td>Full Time · Experienced · 6-10 Yrs of Exp · S...</td>\n",
       "      <td>2021</td>\n",
       "      <td>NaN</td>\n",
       "      <td>NaN</td>\n",
       "      <td>NaN</td>\n",
       "      <td>NaN</td>\n",
       "      <td>NaN</td>\n",
       "      <td>NaN</td>\n",
       "    </tr>\n",
       "    <tr>\n",
       "      <th>3</th>\n",
       "      <td>Software Developer / Desktop Development</td>\n",
       "      <td>ITS</td>\n",
       "      <td>Full Time · Entry Level · 0-2 Yrs of Exp · Co...</td>\n",
       "      <td>2021</td>\n",
       "      <td>NaN</td>\n",
       "      <td>NaN</td>\n",
       "      <td>NaN</td>\n",
       "      <td>NaN</td>\n",
       "      <td>NaN</td>\n",
       "      <td>NaN</td>\n",
       "    </tr>\n",
       "    <tr>\n",
       "      <th>4</th>\n",
       "      <td>Senior Software Developer -Dynamics 365...</td>\n",
       "      <td>CrossWorkers</td>\n",
       "      <td>Full Time · Experienced · 4-12 Yrs of Exp · A...</td>\n",
       "      <td>2021</td>\n",
       "      <td>NaN</td>\n",
       "      <td>NaN</td>\n",
       "      <td>NaN</td>\n",
       "      <td>NaN</td>\n",
       "      <td>NaN</td>\n",
       "      <td>NaN</td>\n",
       "    </tr>\n",
       "    <tr>\n",
       "      <th>5</th>\n",
       "      <td>Software Engineer (Multinational) IT Large</td>\n",
       "      <td>Pillars</td>\n",
       "      <td>Full Time · Entry Level · 1-3 Yrs of Exp · In...</td>\n",
       "      <td>2021</td>\n",
       "      <td>NaN</td>\n",
       "      <td>NaN</td>\n",
       "      <td>NaN</td>\n",
       "      <td>NaN</td>\n",
       "      <td>NaN</td>\n",
       "      <td>NaN</td>\n",
       "    </tr>\n",
       "    <tr>\n",
       "      <th>6</th>\n",
       "      <td>Software Engineer (Multinational) IT Large...</td>\n",
       "      <td>Pillars</td>\n",
       "      <td>Full Time · Entry Level · 1-3 Yrs of Exp · In...</td>\n",
       "      <td>2021</td>\n",
       "      <td>NaN</td>\n",
       "      <td>NaN</td>\n",
       "      <td>NaN</td>\n",
       "      <td>NaN</td>\n",
       "      <td>NaN</td>\n",
       "      <td>NaN</td>\n",
       "    </tr>\n",
       "    <tr>\n",
       "      <th>7</th>\n",
       "      <td>Software Engineer (Multinational) IT Large...</td>\n",
       "      <td>Pillars</td>\n",
       "      <td>Full Time · Entry Level · 1-3 Yrs of Exp · In...</td>\n",
       "      <td>2021</td>\n",
       "      <td>NaN</td>\n",
       "      <td>NaN</td>\n",
       "      <td>NaN</td>\n",
       "      <td>NaN</td>\n",
       "      <td>NaN</td>\n",
       "      <td>NaN</td>\n",
       "    </tr>\n",
       "    <tr>\n",
       "      <th>8</th>\n",
       "      <td>Senior Software Developer - Java</td>\n",
       "      <td>CrossWorkers</td>\n",
       "      <td>Full Time · Experienced · 4+ Yrs of Exp · Inf...</td>\n",
       "      <td>2021</td>\n",
       "      <td>NaN</td>\n",
       "      <td>NaN</td>\n",
       "      <td>NaN</td>\n",
       "      <td>NaN</td>\n",
       "      <td>NaN</td>\n",
       "      <td>NaN</td>\n",
       "    </tr>\n",
       "    <tr>\n",
       "      <th>9</th>\n",
       "      <td>Software Developer - As/400 Developer</td>\n",
       "      <td>Target Recruitment  &amp; HR Solutions</td>\n",
       "      <td>Full Time · Experienced · 5-10 Yrs of Exp · S...</td>\n",
       "      <td>2021</td>\n",
       "      <td>NaN</td>\n",
       "      <td>NaN</td>\n",
       "      <td>NaN</td>\n",
       "      <td>NaN</td>\n",
       "      <td>NaN</td>\n",
       "      <td>NaN</td>\n",
       "    </tr>\n",
       "  </tbody>\n",
       "</table>\n",
       "</div>"
      ],
      "text/plain": [
       "                                         job_title    \\\n",
       "0      Business Development Specialist - Upper Egypt   \n",
       "1  Senior/Intermediate .NET Core Developer (Remot...   \n",
       "2                          Senior Software Developer   \n",
       "3           Software Developer / Desktop Development   \n",
       "4         Senior Software Developer -Dynamics 365...   \n",
       "5         Software Engineer (Multinational) IT Large   \n",
       "6      Software Engineer (Multinational) IT Large...   \n",
       "7      Software Engineer (Multinational) IT Large...   \n",
       "8                   Senior Software Developer - Java   \n",
       "9              Software Developer - As/400 Developer   \n",
       "\n",
       "                               company  \\\n",
       "0                               golden   \n",
       "1                         Confidential   \n",
       "2                             Bnsights   \n",
       "3                                  ITS   \n",
       "4                         CrossWorkers   \n",
       "5                              Pillars   \n",
       "6                              Pillars   \n",
       "7                              Pillars   \n",
       "8                         CrossWorkers   \n",
       "9   Target Recruitment  & HR Solutions   \n",
       "\n",
       "                                     job_description Unnamed: 3 Unnamed: 4  \\\n",
       "0   Full Time · Experienced · 2+ Yrs of Exp · Bus...       2021        NaN   \n",
       "1   Full Time · Experienced · 4+ Yrs of Exp · Sof...       2021        NaN   \n",
       "2   Full Time · Experienced · 6-10 Yrs of Exp · S...       2021        NaN   \n",
       "3   Full Time · Entry Level · 0-2 Yrs of Exp · Co...       2021        NaN   \n",
       "4   Full Time · Experienced · 4-12 Yrs of Exp · A...       2021        NaN   \n",
       "5   Full Time · Entry Level · 1-3 Yrs of Exp · In...       2021        NaN   \n",
       "6   Full Time · Entry Level · 1-3 Yrs of Exp · In...       2021        NaN   \n",
       "7   Full Time · Entry Level · 1-3 Yrs of Exp · In...       2021        NaN   \n",
       "8   Full Time · Experienced · 4+ Yrs of Exp · Inf...       2021        NaN   \n",
       "9   Full Time · Experienced · 5-10 Yrs of Exp · S...       2021        NaN   \n",
       "\n",
       "  Unnamed: 5 Unnamed: 6 Unnamed: 7 Unnamed: 8  Unnamed: 9  \n",
       "0        NaN        NaN        NaN        NaN         NaN  \n",
       "1        NaN        NaN        NaN        NaN         NaN  \n",
       "2        NaN        NaN        NaN        NaN         NaN  \n",
       "3        NaN        NaN        NaN        NaN         NaN  \n",
       "4        NaN        NaN        NaN        NaN         NaN  \n",
       "5        NaN        NaN        NaN        NaN         NaN  \n",
       "6        NaN        NaN        NaN        NaN         NaN  \n",
       "7        NaN        NaN        NaN        NaN         NaN  \n",
       "8        NaN        NaN        NaN        NaN         NaN  \n",
       "9        NaN        NaN        NaN        NaN         NaN  "
      ]
     },
     "execution_count": 64,
     "metadata": {},
     "output_type": "execute_result"
    }
   ],
   "source": [
    "df_21jobs=pd.read_csv(\"wuzzaf_3_8_2021.csv\")\n",
    "df_21jobs.head(10)"
   ]
  },
  {
   "cell_type": "markdown",
   "id": "ff775f89",
   "metadata": {},
   "source": [
    "## making a copy of the dataframe so we dont manipulate the original one"
   ]
  },
  {
   "cell_type": "code",
   "execution_count": 65,
   "id": "6862ada2",
   "metadata": {},
   "outputs": [
    {
     "name": "stdout",
     "output_type": "stream",
     "text": [
      "<class 'pandas.core.frame.DataFrame'>\n",
      "RangeIndex: 2547 entries, 0 to 2546\n",
      "Data columns (total 10 columns):\n",
      " #   Column            Non-Null Count  Dtype  \n",
      "---  ------            --------------  -----  \n",
      " 0   job_title         2547 non-null   object \n",
      " 1   company           2547 non-null   object \n",
      " 2    job_description  2542 non-null   object \n",
      " 3   Unnamed: 3        2396 non-null   object \n",
      " 4   Unnamed: 4        32 non-null     object \n",
      " 5   Unnamed: 5        3 non-null      object \n",
      " 6   Unnamed: 6        2 non-null      object \n",
      " 7   Unnamed: 7        1 non-null      object \n",
      " 8   Unnamed: 8        1 non-null      object \n",
      " 9   Unnamed: 9        1 non-null      float64\n",
      "dtypes: float64(1), object(9)\n",
      "memory usage: 199.1+ KB\n"
     ]
    }
   ],
   "source": [
    "df_21jobsc=df_21jobs.copy()\n",
    "df_21jobsc.info()"
   ]
  },
  {
   "cell_type": "markdown",
   "id": "0f018dcd",
   "metadata": {},
   "source": [
    "## Assessing result\n",
    "\n",
    "1-drop unwanted columns\n",
    "\n",
    "2-rename the columns to clear names\n",
    "\n",
    "3-divide the job description colmuns into 2 columns\n",
    "\n",
    "-Job level\n",
    "\n",
    "-Job Type"
   ]
  },
  {
   "cell_type": "code",
   "execution_count": 66,
   "id": "60fcea8c",
   "metadata": {},
   "outputs": [],
   "source": [
    "df_21jobsc.drop(['Unnamed: 3','Unnamed: 4','Unnamed: 5','Unnamed: 6','Unnamed: 7','Unnamed: 8','Unnamed: 9'],axis=1,inplace=True)"
   ]
  },
  {
   "cell_type": "code",
   "execution_count": 67,
   "id": "8259bedd",
   "metadata": {},
   "outputs": [
    {
     "name": "stdout",
     "output_type": "stream",
     "text": [
      "<class 'pandas.core.frame.DataFrame'>\n",
      "RangeIndex: 2547 entries, 0 to 2546\n",
      "Data columns (total 3 columns):\n",
      " #   Column       Non-Null Count  Dtype \n",
      "---  ------       --------------  ----- \n",
      " 0   JobTitle     2547 non-null   object\n",
      " 1   company      2547 non-null   object\n",
      " 2   description  2542 non-null   object\n",
      "dtypes: object(3)\n",
      "memory usage: 59.8+ KB\n"
     ]
    }
   ],
   "source": [
    "df_21jobsc=df_21jobsc.rename(columns = {'job_title  ':'JobTitle',' job_description':'description'})\n",
    "df_21jobsc.info()"
   ]
  },
  {
   "cell_type": "markdown",
   "id": "604b1d9f",
   "metadata": {},
   "source": [
    "## Clearing any NaN values from the columns"
   ]
  },
  {
   "cell_type": "code",
   "execution_count": 68,
   "id": "df84adde",
   "metadata": {},
   "outputs": [
    {
     "name": "stdout",
     "output_type": "stream",
     "text": [
      "<class 'pandas.core.frame.DataFrame'>\n",
      "RangeIndex: 2547 entries, 0 to 2546\n",
      "Data columns (total 3 columns):\n",
      " #   Column       Non-Null Count  Dtype \n",
      "---  ------       --------------  ----- \n",
      " 0   JobTitle     2547 non-null   object\n",
      " 1   company      2547 non-null   object\n",
      " 2   description  2547 non-null   object\n",
      "dtypes: object(3)\n",
      "memory usage: 59.8+ KB\n"
     ]
    }
   ],
   "source": [
    "df_21jobsc['description'].replace(' ',np.nan,inplace= True)\n",
    "df_21jobsc[\"description\"].fillna(\"Unknown\",inplace=True)\n",
    "df_21jobsc['company'].replace(' ',np.nan,inplace= True)\n",
    "df_21jobsc[\"company\"].fillna(\"Hidden Name\",inplace=True)\n",
    "\n",
    "df_21jobsc.info()"
   ]
  },
  {
   "cell_type": "markdown",
   "id": "522997a0",
   "metadata": {},
   "source": [
    "## creating Job levels column extracted from the description and adding it to the original dataframe"
   ]
  },
  {
   "cell_type": "code",
   "execution_count": 69,
   "id": "3de5acf1",
   "metadata": {},
   "outputs": [
    {
     "data": {
      "text/plain": [
       "['Experienced',\n",
       " 'Experienced',\n",
       " 'Experienced',\n",
       " 'Entery Level',\n",
       " 'Experienced',\n",
       " 'Entery Level',\n",
       " 'Entery Level',\n",
       " 'Entery Level',\n",
       " 'Experienced',\n",
       " 'Experienced']"
      ]
     },
     "execution_count": 69,
     "metadata": {},
     "output_type": "execute_result"
    }
   ],
   "source": [
    "desc_col=df_21jobsc.description\n",
    "level_list=[]\n",
    "for temp_var in desc_col:\n",
    "    if('Entry Level' in temp_var):\n",
    "        level_list.append('Entery Level')\n",
    "    elif('Experienced' in temp_var):\n",
    "        level_list.append('Experienced')\n",
    "    elif('Manager' in temp_var or 'Senior Management' in temp_var):\n",
    "        level_list.append('Managerial')\n",
    "    elif('Internship'in temp_var):\n",
    "        level_list.append('Internship')\n",
    "    else:\n",
    "        level_list.append(temp_var)\n",
    "        \n",
    "level_list[:10]"
   ]
  },
  {
   "cell_type": "code",
   "execution_count": 70,
   "id": "60b93210",
   "metadata": {},
   "outputs": [
    {
     "data": {
      "text/html": [
       "<div>\n",
       "<style scoped>\n",
       "    .dataframe tbody tr th:only-of-type {\n",
       "        vertical-align: middle;\n",
       "    }\n",
       "\n",
       "    .dataframe tbody tr th {\n",
       "        vertical-align: top;\n",
       "    }\n",
       "\n",
       "    .dataframe thead th {\n",
       "        text-align: right;\n",
       "    }\n",
       "</style>\n",
       "<table border=\"1\" class=\"dataframe\">\n",
       "  <thead>\n",
       "    <tr style=\"text-align: right;\">\n",
       "      <th></th>\n",
       "      <th>JobTitle</th>\n",
       "      <th>company</th>\n",
       "      <th>description</th>\n",
       "      <th>Level</th>\n",
       "    </tr>\n",
       "  </thead>\n",
       "  <tbody>\n",
       "    <tr>\n",
       "      <th>0</th>\n",
       "      <td>Business Development Specialist - Upper Egypt</td>\n",
       "      <td>golden</td>\n",
       "      <td>Full Time · Experienced · 2+ Yrs of Exp · Bus...</td>\n",
       "      <td>Experienced</td>\n",
       "    </tr>\n",
       "    <tr>\n",
       "      <th>1</th>\n",
       "      <td>Senior/Intermediate .NET Core Developer (Remot...</td>\n",
       "      <td>Confidential</td>\n",
       "      <td>Full Time · Experienced · 4+ Yrs of Exp · Sof...</td>\n",
       "      <td>Experienced</td>\n",
       "    </tr>\n",
       "    <tr>\n",
       "      <th>2</th>\n",
       "      <td>Senior Software Developer</td>\n",
       "      <td>Bnsights</td>\n",
       "      <td>Full Time · Experienced · 6-10 Yrs of Exp · S...</td>\n",
       "      <td>Experienced</td>\n",
       "    </tr>\n",
       "    <tr>\n",
       "      <th>3</th>\n",
       "      <td>Software Developer / Desktop Development</td>\n",
       "      <td>ITS</td>\n",
       "      <td>Full Time · Entry Level · 0-2 Yrs of Exp · Co...</td>\n",
       "      <td>Entery Level</td>\n",
       "    </tr>\n",
       "    <tr>\n",
       "      <th>4</th>\n",
       "      <td>Senior Software Developer -Dynamics 365...</td>\n",
       "      <td>CrossWorkers</td>\n",
       "      <td>Full Time · Experienced · 4-12 Yrs of Exp · A...</td>\n",
       "      <td>Experienced</td>\n",
       "    </tr>\n",
       "  </tbody>\n",
       "</table>\n",
       "</div>"
      ],
      "text/plain": [
       "                                            JobTitle        company  \\\n",
       "0      Business Development Specialist - Upper Egypt         golden   \n",
       "1  Senior/Intermediate .NET Core Developer (Remot...   Confidential   \n",
       "2                          Senior Software Developer       Bnsights   \n",
       "3           Software Developer / Desktop Development            ITS   \n",
       "4         Senior Software Developer -Dynamics 365...   CrossWorkers   \n",
       "\n",
       "                                         description         Level  \n",
       "0   Full Time · Experienced · 2+ Yrs of Exp · Bus...   Experienced  \n",
       "1   Full Time · Experienced · 4+ Yrs of Exp · Sof...   Experienced  \n",
       "2   Full Time · Experienced · 6-10 Yrs of Exp · S...   Experienced  \n",
       "3   Full Time · Entry Level · 0-2 Yrs of Exp · Co...  Entery Level  \n",
       "4   Full Time · Experienced · 4-12 Yrs of Exp · A...   Experienced  "
      ]
     },
     "execution_count": 70,
     "metadata": {},
     "output_type": "execute_result"
    }
   ],
   "source": [
    "df_21jobsc['Level']=level_list\n",
    "df_21jobsc.head()"
   ]
  },
  {
   "cell_type": "markdown",
   "id": "708e77fb",
   "metadata": {},
   "source": [
    "## creating the type list for the job type column and add it to the dataframe"
   ]
  },
  {
   "cell_type": "code",
   "execution_count": 71,
   "id": "8a714ebd",
   "metadata": {},
   "outputs": [
    {
     "data": {
      "text/plain": [
       "['Full Time',\n",
       " 'Full Time',\n",
       " 'Full Time',\n",
       " 'Full Time',\n",
       " 'Full Time',\n",
       " 'Full Time',\n",
       " 'Full Time',\n",
       " 'Full Time',\n",
       " 'Full Time',\n",
       " 'Full Time']"
      ]
     },
     "execution_count": 71,
     "metadata": {},
     "output_type": "execute_result"
    }
   ],
   "source": [
    "type_list=[]\n",
    "for temp_var in desc_col:\n",
    "    if('Full Time' in temp_var):\n",
    "        type_list.append('Full Time')\n",
    "    elif('Part Time' in temp_var):\n",
    "        type_list.append('Part Time')\n",
    "    elif('Full Time'and'Part Time'in temp_var):\n",
    "        type_list.append('Full time and part time')\n",
    "    elif('Internship' in temp_var):\n",
    "        type_list.append('Internship')\n",
    "    elif('Full Time 'and' Part Time 'and' Work From Home' in temp_var):\n",
    "        type_list.append('Full Time And Part Time And Work From Home')\n",
    "    else:\n",
    "        type_list.append('Full Time')\n",
    "type_list[:10]"
   ]
  },
  {
   "cell_type": "code",
   "execution_count": 72,
   "id": "30e9528c",
   "metadata": {},
   "outputs": [
    {
     "data": {
      "text/html": [
       "<div>\n",
       "<style scoped>\n",
       "    .dataframe tbody tr th:only-of-type {\n",
       "        vertical-align: middle;\n",
       "    }\n",
       "\n",
       "    .dataframe tbody tr th {\n",
       "        vertical-align: top;\n",
       "    }\n",
       "\n",
       "    .dataframe thead th {\n",
       "        text-align: right;\n",
       "    }\n",
       "</style>\n",
       "<table border=\"1\" class=\"dataframe\">\n",
       "  <thead>\n",
       "    <tr style=\"text-align: right;\">\n",
       "      <th></th>\n",
       "      <th>JobTitle</th>\n",
       "      <th>company</th>\n",
       "      <th>description</th>\n",
       "      <th>Level</th>\n",
       "      <th>Type</th>\n",
       "    </tr>\n",
       "  </thead>\n",
       "  <tbody>\n",
       "    <tr>\n",
       "      <th>0</th>\n",
       "      <td>Business Development Specialist - Upper Egypt</td>\n",
       "      <td>golden</td>\n",
       "      <td>Full Time · Experienced · 2+ Yrs of Exp · Bus...</td>\n",
       "      <td>Experienced</td>\n",
       "      <td>Full Time</td>\n",
       "    </tr>\n",
       "    <tr>\n",
       "      <th>1</th>\n",
       "      <td>Senior/Intermediate .NET Core Developer (Remot...</td>\n",
       "      <td>Confidential</td>\n",
       "      <td>Full Time · Experienced · 4+ Yrs of Exp · Sof...</td>\n",
       "      <td>Experienced</td>\n",
       "      <td>Full Time</td>\n",
       "    </tr>\n",
       "    <tr>\n",
       "      <th>2</th>\n",
       "      <td>Senior Software Developer</td>\n",
       "      <td>Bnsights</td>\n",
       "      <td>Full Time · Experienced · 6-10 Yrs of Exp · S...</td>\n",
       "      <td>Experienced</td>\n",
       "      <td>Full Time</td>\n",
       "    </tr>\n",
       "    <tr>\n",
       "      <th>3</th>\n",
       "      <td>Software Developer / Desktop Development</td>\n",
       "      <td>ITS</td>\n",
       "      <td>Full Time · Entry Level · 0-2 Yrs of Exp · Co...</td>\n",
       "      <td>Entery Level</td>\n",
       "      <td>Full Time</td>\n",
       "    </tr>\n",
       "    <tr>\n",
       "      <th>4</th>\n",
       "      <td>Senior Software Developer -Dynamics 365...</td>\n",
       "      <td>CrossWorkers</td>\n",
       "      <td>Full Time · Experienced · 4-12 Yrs of Exp · A...</td>\n",
       "      <td>Experienced</td>\n",
       "      <td>Full Time</td>\n",
       "    </tr>\n",
       "  </tbody>\n",
       "</table>\n",
       "</div>"
      ],
      "text/plain": [
       "                                            JobTitle        company  \\\n",
       "0      Business Development Specialist - Upper Egypt         golden   \n",
       "1  Senior/Intermediate .NET Core Developer (Remot...   Confidential   \n",
       "2                          Senior Software Developer       Bnsights   \n",
       "3           Software Developer / Desktop Development            ITS   \n",
       "4         Senior Software Developer -Dynamics 365...   CrossWorkers   \n",
       "\n",
       "                                         description         Level       Type  \n",
       "0   Full Time · Experienced · 2+ Yrs of Exp · Bus...   Experienced  Full Time  \n",
       "1   Full Time · Experienced · 4+ Yrs of Exp · Sof...   Experienced  Full Time  \n",
       "2   Full Time · Experienced · 6-10 Yrs of Exp · S...   Experienced  Full Time  \n",
       "3   Full Time · Entry Level · 0-2 Yrs of Exp · Co...  Entery Level  Full Time  \n",
       "4   Full Time · Experienced · 4-12 Yrs of Exp · A...   Experienced  Full Time  "
      ]
     },
     "execution_count": 72,
     "metadata": {},
     "output_type": "execute_result"
    }
   ],
   "source": [
    "df_21jobsc['Type']=type_list\n",
    "df_21jobsc.head()"
   ]
  },
  {
   "cell_type": "code",
   "execution_count": 73,
   "id": "77ef457c",
   "metadata": {},
   "outputs": [
    {
     "data": {
      "text/plain": [
       "Experienced     1623\n",
       "Entery Level     515\n",
       "Managerial       364\n",
       "Internship        16\n",
       " LLC               8\n",
       "Name: Level, dtype: int64"
      ]
     },
     "execution_count": 73,
     "metadata": {},
     "output_type": "execute_result"
    }
   ],
   "source": [
    "df_21jobsc.Level.value_counts().head()"
   ]
  },
  {
   "cell_type": "code",
   "execution_count": 74,
   "id": "e9c3e32c",
   "metadata": {},
   "outputs": [
    {
     "data": {
      "text/plain": [
       "Full Time                                     2465\n",
       "Part Time                                       37\n",
       "Internship                                      33\n",
       "Full Time And Part Time And Work From Home      12\n",
       "Name: Type, dtype: int64"
      ]
     },
     "execution_count": 74,
     "metadata": {},
     "output_type": "execute_result"
    }
   ],
   "source": [
    "df_21jobsc.Type.value_counts().head()"
   ]
  },
  {
   "cell_type": "code",
   "execution_count": 75,
   "id": "c7386e90",
   "metadata": {},
   "outputs": [
    {
     "data": {
      "text/plain": [
       "IT Specialist          20\n",
       "Business Analyst       16\n",
       "Graphic Designer       14\n",
       "Front End Developer    14\n",
       "Project Manager        13\n",
       "Name: JobTitle, dtype: int64"
      ]
     },
     "execution_count": 75,
     "metadata": {},
     "output_type": "execute_result"
    }
   ],
   "source": [
    "df_21jobsc.JobTitle.value_counts().head()"
   ]
  },
  {
   "cell_type": "markdown",
   "id": "24267143",
   "metadata": {},
   "source": [
    "## creating job categories list from the jobtitle column and then add this column to the dataframe"
   ]
  },
  {
   "cell_type": "code",
   "execution_count": 76,
   "id": "75fd18fb",
   "metadata": {},
   "outputs": [
    {
     "data": {
      "text/plain": [
       "['Software Engneering ',\n",
       " 'Software Engneering ',\n",
       " 'Software Engneering ',\n",
       " 'Software Engneering ',\n",
       " 'Software Engneering ']"
      ]
     },
     "execution_count": 76,
     "metadata": {},
     "output_type": "execute_result"
    }
   ],
   "source": [
    "x=df_21jobsc.JobTitle\n",
    "Group_list=[]\n",
    "for temp_jobtitle in x:\n",
    "    if(\"IT\" in temp_jobtitle):\n",
    "        Group_list.append('IT Category')\n",
    "    elif('Software'or \"Full Stack\"or\"Developer\"or\"End\"or\"end\" in temp_jobtitle):\n",
    "        Group_list.append('Software Engneering ')\n",
    "    else:\n",
    "        Group_list.append(x)  \n",
    "Group_list[:5]"
   ]
  },
  {
   "cell_type": "code",
   "execution_count": 77,
   "id": "3aef776d",
   "metadata": {},
   "outputs": [
    {
     "data": {
      "text/html": [
       "<div>\n",
       "<style scoped>\n",
       "    .dataframe tbody tr th:only-of-type {\n",
       "        vertical-align: middle;\n",
       "    }\n",
       "\n",
       "    .dataframe tbody tr th {\n",
       "        vertical-align: top;\n",
       "    }\n",
       "\n",
       "    .dataframe thead th {\n",
       "        text-align: right;\n",
       "    }\n",
       "</style>\n",
       "<table border=\"1\" class=\"dataframe\">\n",
       "  <thead>\n",
       "    <tr style=\"text-align: right;\">\n",
       "      <th></th>\n",
       "      <th>JobTitle</th>\n",
       "      <th>company</th>\n",
       "      <th>description</th>\n",
       "      <th>Level</th>\n",
       "      <th>Type</th>\n",
       "      <th>StandardJobTitle</th>\n",
       "    </tr>\n",
       "  </thead>\n",
       "  <tbody>\n",
       "    <tr>\n",
       "      <th>0</th>\n",
       "      <td>Business Development Specialist - Upper Egypt</td>\n",
       "      <td>golden</td>\n",
       "      <td>Full Time · Experienced · 2+ Yrs of Exp · Bus...</td>\n",
       "      <td>Experienced</td>\n",
       "      <td>Full Time</td>\n",
       "      <td>Software Engneering</td>\n",
       "    </tr>\n",
       "    <tr>\n",
       "      <th>1</th>\n",
       "      <td>Senior/Intermediate .NET Core Developer (Remot...</td>\n",
       "      <td>Confidential</td>\n",
       "      <td>Full Time · Experienced · 4+ Yrs of Exp · Sof...</td>\n",
       "      <td>Experienced</td>\n",
       "      <td>Full Time</td>\n",
       "      <td>Software Engneering</td>\n",
       "    </tr>\n",
       "    <tr>\n",
       "      <th>2</th>\n",
       "      <td>Senior Software Developer</td>\n",
       "      <td>Bnsights</td>\n",
       "      <td>Full Time · Experienced · 6-10 Yrs of Exp · S...</td>\n",
       "      <td>Experienced</td>\n",
       "      <td>Full Time</td>\n",
       "      <td>Software Engneering</td>\n",
       "    </tr>\n",
       "    <tr>\n",
       "      <th>3</th>\n",
       "      <td>Software Developer / Desktop Development</td>\n",
       "      <td>ITS</td>\n",
       "      <td>Full Time · Entry Level · 0-2 Yrs of Exp · Co...</td>\n",
       "      <td>Entery Level</td>\n",
       "      <td>Full Time</td>\n",
       "      <td>Software Engneering</td>\n",
       "    </tr>\n",
       "    <tr>\n",
       "      <th>4</th>\n",
       "      <td>Senior Software Developer -Dynamics 365...</td>\n",
       "      <td>CrossWorkers</td>\n",
       "      <td>Full Time · Experienced · 4-12 Yrs of Exp · A...</td>\n",
       "      <td>Experienced</td>\n",
       "      <td>Full Time</td>\n",
       "      <td>Software Engneering</td>\n",
       "    </tr>\n",
       "  </tbody>\n",
       "</table>\n",
       "</div>"
      ],
      "text/plain": [
       "                                            JobTitle        company  \\\n",
       "0      Business Development Specialist - Upper Egypt         golden   \n",
       "1  Senior/Intermediate .NET Core Developer (Remot...   Confidential   \n",
       "2                          Senior Software Developer       Bnsights   \n",
       "3           Software Developer / Desktop Development            ITS   \n",
       "4         Senior Software Developer -Dynamics 365...   CrossWorkers   \n",
       "\n",
       "                                         description         Level       Type  \\\n",
       "0   Full Time · Experienced · 2+ Yrs of Exp · Bus...   Experienced  Full Time   \n",
       "1   Full Time · Experienced · 4+ Yrs of Exp · Sof...   Experienced  Full Time   \n",
       "2   Full Time · Experienced · 6-10 Yrs of Exp · S...   Experienced  Full Time   \n",
       "3   Full Time · Entry Level · 0-2 Yrs of Exp · Co...  Entery Level  Full Time   \n",
       "4   Full Time · Experienced · 4-12 Yrs of Exp · A...   Experienced  Full Time   \n",
       "\n",
       "       StandardJobTitle  \n",
       "0  Software Engneering   \n",
       "1  Software Engneering   \n",
       "2  Software Engneering   \n",
       "3  Software Engneering   \n",
       "4  Software Engneering   "
      ]
     },
     "execution_count": 77,
     "metadata": {},
     "output_type": "execute_result"
    }
   ],
   "source": [
    "df_21jobsc['StandardJobTitle']=Group_list\n",
    "df_21jobsc.head()"
   ]
  },
  {
   "cell_type": "markdown",
   "id": "cf65ed88",
   "metadata": {},
   "source": [
    "## Dividing the dataframe into 3 datasets :\n",
    "1- entry level\n",
    "\n",
    "2- experienced level\n",
    "\n",
    "3- managerial level"
   ]
  },
  {
   "cell_type": "code",
   "execution_count": 78,
   "id": "2b23b327",
   "metadata": {},
   "outputs": [
    {
     "data": {
      "text/html": [
       "<div>\n",
       "<style scoped>\n",
       "    .dataframe tbody tr th:only-of-type {\n",
       "        vertical-align: middle;\n",
       "    }\n",
       "\n",
       "    .dataframe tbody tr th {\n",
       "        vertical-align: top;\n",
       "    }\n",
       "\n",
       "    .dataframe thead th {\n",
       "        text-align: right;\n",
       "    }\n",
       "</style>\n",
       "<table border=\"1\" class=\"dataframe\">\n",
       "  <thead>\n",
       "    <tr style=\"text-align: right;\">\n",
       "      <th></th>\n",
       "      <th>JobTitle</th>\n",
       "      <th>company</th>\n",
       "      <th>description</th>\n",
       "      <th>Level</th>\n",
       "      <th>Type</th>\n",
       "      <th>StandardJobTitle</th>\n",
       "    </tr>\n",
       "  </thead>\n",
       "  <tbody>\n",
       "    <tr>\n",
       "      <th>3</th>\n",
       "      <td>Software Developer / Desktop Development</td>\n",
       "      <td>ITS</td>\n",
       "      <td>Full Time · Entry Level · 0-2 Yrs of Exp · Co...</td>\n",
       "      <td>Entery Level</td>\n",
       "      <td>Full Time</td>\n",
       "      <td>Software Engneering</td>\n",
       "    </tr>\n",
       "    <tr>\n",
       "      <th>5</th>\n",
       "      <td>Software Engineer (Multinational) IT Large</td>\n",
       "      <td>Pillars</td>\n",
       "      <td>Full Time · Entry Level · 1-3 Yrs of Exp · In...</td>\n",
       "      <td>Entery Level</td>\n",
       "      <td>Full Time</td>\n",
       "      <td>IT Category</td>\n",
       "    </tr>\n",
       "    <tr>\n",
       "      <th>6</th>\n",
       "      <td>Software Engineer (Multinational) IT Large...</td>\n",
       "      <td>Pillars</td>\n",
       "      <td>Full Time · Entry Level · 1-3 Yrs of Exp · In...</td>\n",
       "      <td>Entery Level</td>\n",
       "      <td>Full Time</td>\n",
       "      <td>IT Category</td>\n",
       "    </tr>\n",
       "    <tr>\n",
       "      <th>7</th>\n",
       "      <td>Software Engineer (Multinational) IT Large...</td>\n",
       "      <td>Pillars</td>\n",
       "      <td>Full Time · Entry Level · 1-3 Yrs of Exp · In...</td>\n",
       "      <td>Entery Level</td>\n",
       "      <td>Full Time</td>\n",
       "      <td>IT Category</td>\n",
       "    </tr>\n",
       "    <tr>\n",
       "      <th>11</th>\n",
       "      <td>Vodafone Egypt Customer Care Advisor</td>\n",
       "      <td>Vodafone Egypt</td>\n",
       "      <td>Full Time · Entry Level · 0-3 Yrs of Exp · Ad...</td>\n",
       "      <td>Entery Level</td>\n",
       "      <td>Full Time</td>\n",
       "      <td>Software Engneering</td>\n",
       "    </tr>\n",
       "  </tbody>\n",
       "</table>\n",
       "</div>"
      ],
      "text/plain": [
       "                                         JobTitle          company  \\\n",
       "3        Software Developer / Desktop Development              ITS   \n",
       "5      Software Engineer (Multinational) IT Large          Pillars   \n",
       "6   Software Engineer (Multinational) IT Large...          Pillars   \n",
       "7   Software Engineer (Multinational) IT Large...          Pillars   \n",
       "11           Vodafone Egypt Customer Care Advisor   Vodafone Egypt   \n",
       "\n",
       "                                          description         Level  \\\n",
       "3    Full Time · Entry Level · 0-2 Yrs of Exp · Co...  Entery Level   \n",
       "5    Full Time · Entry Level · 1-3 Yrs of Exp · In...  Entery Level   \n",
       "6    Full Time · Entry Level · 1-3 Yrs of Exp · In...  Entery Level   \n",
       "7    Full Time · Entry Level · 1-3 Yrs of Exp · In...  Entery Level   \n",
       "11   Full Time · Entry Level · 0-3 Yrs of Exp · Ad...  Entery Level   \n",
       "\n",
       "         Type      StandardJobTitle  \n",
       "3   Full Time  Software Engneering   \n",
       "5   Full Time           IT Category  \n",
       "6   Full Time           IT Category  \n",
       "7   Full Time           IT Category  \n",
       "11  Full Time  Software Engneering   "
      ]
     },
     "execution_count": 78,
     "metadata": {},
     "output_type": "execute_result"
    }
   ],
   "source": [
    "df_entry=df_21jobsc[df_21jobsc[\"Level\"]=='Entery Level']\n",
    "df_entry.head()"
   ]
  },
  {
   "cell_type": "code",
   "execution_count": 79,
   "id": "c78ad1e8",
   "metadata": {},
   "outputs": [
    {
     "data": {
      "text/html": [
       "<div>\n",
       "<style scoped>\n",
       "    .dataframe tbody tr th:only-of-type {\n",
       "        vertical-align: middle;\n",
       "    }\n",
       "\n",
       "    .dataframe tbody tr th {\n",
       "        vertical-align: top;\n",
       "    }\n",
       "\n",
       "    .dataframe thead th {\n",
       "        text-align: right;\n",
       "    }\n",
       "</style>\n",
       "<table border=\"1\" class=\"dataframe\">\n",
       "  <thead>\n",
       "    <tr style=\"text-align: right;\">\n",
       "      <th></th>\n",
       "      <th>JobTitle</th>\n",
       "      <th>company</th>\n",
       "      <th>description</th>\n",
       "      <th>Level</th>\n",
       "      <th>Type</th>\n",
       "      <th>StandardJobTitle</th>\n",
       "    </tr>\n",
       "  </thead>\n",
       "  <tbody>\n",
       "    <tr>\n",
       "      <th>0</th>\n",
       "      <td>Business Development Specialist - Upper Egypt</td>\n",
       "      <td>golden</td>\n",
       "      <td>Full Time · Experienced · 2+ Yrs of Exp · Bus...</td>\n",
       "      <td>Experienced</td>\n",
       "      <td>Full Time</td>\n",
       "      <td>Software Engneering</td>\n",
       "    </tr>\n",
       "    <tr>\n",
       "      <th>1</th>\n",
       "      <td>Senior/Intermediate .NET Core Developer (Remot...</td>\n",
       "      <td>Confidential</td>\n",
       "      <td>Full Time · Experienced · 4+ Yrs of Exp · Sof...</td>\n",
       "      <td>Experienced</td>\n",
       "      <td>Full Time</td>\n",
       "      <td>Software Engneering</td>\n",
       "    </tr>\n",
       "    <tr>\n",
       "      <th>2</th>\n",
       "      <td>Senior Software Developer</td>\n",
       "      <td>Bnsights</td>\n",
       "      <td>Full Time · Experienced · 6-10 Yrs of Exp · S...</td>\n",
       "      <td>Experienced</td>\n",
       "      <td>Full Time</td>\n",
       "      <td>Software Engneering</td>\n",
       "    </tr>\n",
       "    <tr>\n",
       "      <th>4</th>\n",
       "      <td>Senior Software Developer -Dynamics 365...</td>\n",
       "      <td>CrossWorkers</td>\n",
       "      <td>Full Time · Experienced · 4-12 Yrs of Exp · A...</td>\n",
       "      <td>Experienced</td>\n",
       "      <td>Full Time</td>\n",
       "      <td>Software Engneering</td>\n",
       "    </tr>\n",
       "    <tr>\n",
       "      <th>8</th>\n",
       "      <td>Senior Software Developer - Java</td>\n",
       "      <td>CrossWorkers</td>\n",
       "      <td>Full Time · Experienced · 4+ Yrs of Exp · Inf...</td>\n",
       "      <td>Experienced</td>\n",
       "      <td>Full Time</td>\n",
       "      <td>Software Engneering</td>\n",
       "    </tr>\n",
       "  </tbody>\n",
       "</table>\n",
       "</div>"
      ],
      "text/plain": [
       "                                            JobTitle        company  \\\n",
       "0      Business Development Specialist - Upper Egypt         golden   \n",
       "1  Senior/Intermediate .NET Core Developer (Remot...   Confidential   \n",
       "2                          Senior Software Developer       Bnsights   \n",
       "4         Senior Software Developer -Dynamics 365...   CrossWorkers   \n",
       "8                   Senior Software Developer - Java   CrossWorkers   \n",
       "\n",
       "                                         description        Level       Type  \\\n",
       "0   Full Time · Experienced · 2+ Yrs of Exp · Bus...  Experienced  Full Time   \n",
       "1   Full Time · Experienced · 4+ Yrs of Exp · Sof...  Experienced  Full Time   \n",
       "2   Full Time · Experienced · 6-10 Yrs of Exp · S...  Experienced  Full Time   \n",
       "4   Full Time · Experienced · 4-12 Yrs of Exp · A...  Experienced  Full Time   \n",
       "8   Full Time · Experienced · 4+ Yrs of Exp · Inf...  Experienced  Full Time   \n",
       "\n",
       "       StandardJobTitle  \n",
       "0  Software Engneering   \n",
       "1  Software Engneering   \n",
       "2  Software Engneering   \n",
       "4  Software Engneering   \n",
       "8  Software Engneering   "
      ]
     },
     "execution_count": 79,
     "metadata": {},
     "output_type": "execute_result"
    }
   ],
   "source": [
    "df_exp=df_21jobsc[df_21jobsc[\"Level\"]=='Experienced']\n",
    "df_exp.head()"
   ]
  },
  {
   "cell_type": "code",
   "execution_count": 80,
   "id": "92f9f759",
   "metadata": {},
   "outputs": [
    {
     "data": {
      "text/html": [
       "<div>\n",
       "<style scoped>\n",
       "    .dataframe tbody tr th:only-of-type {\n",
       "        vertical-align: middle;\n",
       "    }\n",
       "\n",
       "    .dataframe tbody tr th {\n",
       "        vertical-align: top;\n",
       "    }\n",
       "\n",
       "    .dataframe thead th {\n",
       "        text-align: right;\n",
       "    }\n",
       "</style>\n",
       "<table border=\"1\" class=\"dataframe\">\n",
       "  <thead>\n",
       "    <tr style=\"text-align: right;\">\n",
       "      <th></th>\n",
       "      <th>JobTitle</th>\n",
       "      <th>company</th>\n",
       "      <th>description</th>\n",
       "      <th>Level</th>\n",
       "      <th>Type</th>\n",
       "      <th>StandardJobTitle</th>\n",
       "    </tr>\n",
       "  </thead>\n",
       "  <tbody>\n",
       "    <tr>\n",
       "      <th>34</th>\n",
       "      <td>Software Development (Back End .Net) Team Lead</td>\n",
       "      <td>PaySky</td>\n",
       "      <td>Full Time · Manager · 5-10 Yrs of Exp · Infor...</td>\n",
       "      <td>Managerial</td>\n",
       "      <td>Full Time</td>\n",
       "      <td>Software Engneering</td>\n",
       "    </tr>\n",
       "    <tr>\n",
       "      <th>47</th>\n",
       "      <td>Upper Egypt Area Manager (Operations)</td>\n",
       "      <td>Bosta</td>\n",
       "      <td>Full Time · Manager · 5-8 Yrs of Exp · Operat...</td>\n",
       "      <td>Managerial</td>\n",
       "      <td>Full Time</td>\n",
       "      <td>Software Engneering</td>\n",
       "    </tr>\n",
       "    <tr>\n",
       "      <th>62</th>\n",
       "      <td>IT Manager (Head Of IT) - (World Class...</td>\n",
       "      <td>Pillars</td>\n",
       "      <td>Full Time · Manager · 10-20 Yrs of Exp · Info...</td>\n",
       "      <td>Managerial</td>\n",
       "      <td>Full Time</td>\n",
       "      <td>IT Category</td>\n",
       "    </tr>\n",
       "    <tr>\n",
       "      <th>67</th>\n",
       "      <td>Software Business Development Manager</td>\n",
       "      <td>A1Softech</td>\n",
       "      <td>Full Time · Manager · 9-12 Yrs of Exp · Sales...</td>\n",
       "      <td>Managerial</td>\n",
       "      <td>Full Time</td>\n",
       "      <td>Software Engneering</td>\n",
       "    </tr>\n",
       "    <tr>\n",
       "      <th>78</th>\n",
       "      <td>Java Spring Developer Team Leader</td>\n",
       "      <td>Digital Force</td>\n",
       "      <td>Full Time · Manager · 6-9 Yrs of Exp · Git · ...</td>\n",
       "      <td>Managerial</td>\n",
       "      <td>Full Time</td>\n",
       "      <td>Software Engneering</td>\n",
       "    </tr>\n",
       "  </tbody>\n",
       "</table>\n",
       "</div>"
      ],
      "text/plain": [
       "                                          JobTitle         company  \\\n",
       "34  Software Development (Back End .Net) Team Lead          PaySky   \n",
       "47           Upper Egypt Area Manager (Operations)           Bosta   \n",
       "62       IT Manager (Head Of IT) - (World Class...         Pillars   \n",
       "67           Software Business Development Manager       A1Softech   \n",
       "78               Java Spring Developer Team Leader   Digital Force   \n",
       "\n",
       "                                          description       Level       Type  \\\n",
       "34   Full Time · Manager · 5-10 Yrs of Exp · Infor...  Managerial  Full Time   \n",
       "47   Full Time · Manager · 5-8 Yrs of Exp · Operat...  Managerial  Full Time   \n",
       "62   Full Time · Manager · 10-20 Yrs of Exp · Info...  Managerial  Full Time   \n",
       "67   Full Time · Manager · 9-12 Yrs of Exp · Sales...  Managerial  Full Time   \n",
       "78   Full Time · Manager · 6-9 Yrs of Exp · Git · ...  Managerial  Full Time   \n",
       "\n",
       "        StandardJobTitle  \n",
       "34  Software Engneering   \n",
       "47  Software Engneering   \n",
       "62           IT Category  \n",
       "67  Software Engneering   \n",
       "78  Software Engneering   "
      ]
     },
     "execution_count": 80,
     "metadata": {},
     "output_type": "execute_result"
    }
   ],
   "source": [
    "df_mang=df_21jobsc[df_21jobsc[\"Level\"]=='Managerial']\n",
    "df_mang.head()"
   ]
  },
  {
   "cell_type": "markdown",
   "id": "adc22b16",
   "metadata": {},
   "source": [
    "## saving the datasets as csv files"
   ]
  },
  {
   "cell_type": "code",
   "execution_count": 81,
   "id": "d51a3c8e",
   "metadata": {},
   "outputs": [],
   "source": [
    "df_21jobsc.to_csv(\"wuzzafCleaned2021.csv\", index = False)\n",
    "df_entry.to_csv(\"WuzzafEntryleveljobs2021.csv\", index = False)\n",
    "df_exp.to_csv(\"wuzzafexperiencedjobs2021.csv\", index = False)\n",
    "df_mang.to_csv(\"wuzzafmangerjobs2021.csv\", index = False)"
   ]
  },
  {
   "cell_type": "code",
   "execution_count": 82,
   "id": "76ef7b89",
   "metadata": {},
   "outputs": [],
   "source": [
    "df_21cleaned=pd.read_csv(\"wuzzafCleaned2021.csv\")"
   ]
  },
  {
   "cell_type": "code",
   "execution_count": 83,
   "id": "bc931e9c",
   "metadata": {},
   "outputs": [
    {
     "data": {
      "text/plain": [
       "IT Specialist                 20\n",
       "Business Analyst              16\n",
       "Graphic Designer              14\n",
       "Front End Developer           14\n",
       "Project Manager               13\n",
       "IT Help Desk Specialist       13\n",
       "Senior Software Developer     12\n",
       "Senior Java Developer         12\n",
       "Senior Front End Developer    11\n",
       "Full Stack Developer          11\n",
       "Name: JobTitle, dtype: int64"
      ]
     },
     "execution_count": 83,
     "metadata": {},
     "output_type": "execute_result"
    }
   ],
   "source": [
    "df_21cleaned.JobTitle.value_counts().head(10)"
   ]
  },
  {
   "cell_type": "code",
   "execution_count": 84,
   "id": "472cfd9c",
   "metadata": {},
   "outputs": [
    {
     "data": {
      "text/plain": [
       " Confidential                                   278\n",
       " FlairsTech                                      44\n",
       " Fawry Banking & Payment Technology Services     23\n",
       " Cegedim                                         18\n",
       " Pillars                                         17\n",
       " Ibtikar                                         15\n",
       " Perfect Presentation                            15\n",
       " e-finance                                       15\n",
       " Sumerge                                         15\n",
       " Centro Global Solutions                         14\n",
       "Name: company, dtype: int64"
      ]
     },
     "execution_count": 84,
     "metadata": {},
     "output_type": "execute_result"
    }
   ],
   "source": [
    "df_21cleaned.company.value_counts().head(10)"
   ]
  },
  {
   "cell_type": "code",
   "execution_count": 85,
   "id": "8926527f",
   "metadata": {},
   "outputs": [
    {
     "data": {
      "text/plain": [
       "count                     2547\n",
       "unique                       2\n",
       "top       Software Engneering \n",
       "freq                      2382\n",
       "Name: StandardJobTitle, dtype: object"
      ]
     },
     "execution_count": 85,
     "metadata": {},
     "output_type": "execute_result"
    }
   ],
   "source": [
    "df_21cleaned.StandardJobTitle.describe()"
   ]
  },
  {
   "cell_type": "code",
   "execution_count": 86,
   "id": "849e447e",
   "metadata": {},
   "outputs": [
    {
     "data": {
      "text/plain": [
       "count              2547\n",
       "unique             1842\n",
       "top       IT Specialist\n",
       "freq                 20\n",
       "Name: JobTitle, dtype: object"
      ]
     },
     "execution_count": 86,
     "metadata": {},
     "output_type": "execute_result"
    }
   ],
   "source": [
    "df_21cleaned.JobTitle.describe()"
   ]
  },
  {
   "cell_type": "code",
   "execution_count": 87,
   "id": "21719792",
   "metadata": {},
   "outputs": [
    {
     "data": {
      "text/plain": [
       "<AxesSubplot:title={'center':' Most Job category in 2021 '}>"
      ]
     },
     "execution_count": 87,
     "metadata": {},
     "output_type": "execute_result"
    },
    {
     "data": {
      "image/png": "[encoded data removed]",
      "text/plain": [
       "<Figure size 432x288 with 1 Axes>"
      ]
     },
     "metadata": {
      "needs_background": "light"
     },
     "output_type": "display_data"
    }
   ],
   "source": [
    "std_title=df_21cleaned.StandardJobTitle.value_counts().head(2)\n",
    "std_title.plot(kind = 'bar',color = \"darkorange\",title=' Most Job category in 2021 ')"
   ]
  },
  {
   "cell_type": "code",
   "execution_count": 110,
   "id": "3f28dfcb",
   "metadata": {},
   "outputs": [
    {
     "data": {
      "text/plain": [
       "<AxesSubplot:title={'center':'Most offers during the last quarter of 2021 '}>"
      ]
     },
     "execution_count": 110,
     "metadata": {},
     "output_type": "execute_result"
    },
    {
     "data": {
      "image/png": "[encoded data removed]",
      "text/plain": [
       "<Figure size 432x288 with 1 Axes>"
      ]
     },
     "metadata": {
      "needs_background": "light"
     },
     "output_type": "display_data"
    }
   ],
   "source": [
    "level = df_21cleaned.Level.value_counts()[:4]\n",
    "level.plot(kind='barh',color='lime', title='Most offers during the last quarter of 2021 ') "
   ]
  },
  {
   "cell_type": "code",
   "execution_count": 98,
   "id": "e704068d",
   "metadata": {},
   "outputs": [
    {
     "data": {
      "text/plain": [
       "<AxesSubplot:title={'center':'Most employing companies'}>"
      ]
     },
     "execution_count": 98,
     "metadata": {},
     "output_type": "execute_result"
    },
    {
     "data": {
      "image/png": "[encoded data removed]",
      "text/plain": [
       "<Figure size 432x288 with 1 Axes>"
      ]
     },
     "metadata": {
      "needs_background": "light"
     },
     "output_type": "display_data"
    }
   ],
   "source": [
    "company = df_21cleaned['company'].value_counts()[:10]\n",
    "company.plot(kind = 'barh',color = \"brown\",title='Most employing companies')"
   ]
  },
  {
   "cell_type": "code",
   "execution_count": 112,
   "id": "bea7ff92",
   "metadata": {},
   "outputs": [
    {
     "data": {
      "text/plain": [
       "count                      515\n",
       "unique                       2\n",
       "top       Software Engneering \n",
       "freq                       459\n",
       "Name: StandardJobTitle, dtype: object"
      ]
     },
     "execution_count": 112,
     "metadata": {},
     "output_type": "execute_result"
    }
   ],
   "source": [
    "df_entry.StandardJobTitle.describe()"
   ]
  },
  {
   "cell_type": "code",
   "execution_count": 117,
   "id": "53ecd322",
   "metadata": {},
   "outputs": [
    {
     "data": {
      "text/plain": [
       "<AxesSubplot:title={'center':'Most wanted job titles in entery level'}, ylabel='Frequency'>"
      ]
     },
     "execution_count": 117,
     "metadata": {},
     "output_type": "execute_result"
    },
    {
     "data": {
      "image/png": "[encoded data removed]",
      "text/plain": [
       "<Figure size 432x288 with 1 Axes>"
      ]
     },
     "metadata": {
      "needs_background": "light"
     },
     "output_type": "display_data"
    }
   ],
   "source": [
    "_titlee = df_entry['JobTitle'].value_counts()[:10]\n",
    "_titlee.plot(kind = 'hist',color = \"mediumorchid\",title='Most wanted job titles in entery level')"
   ]
  },
  {
   "cell_type": "code",
   "execution_count": 120,
   "id": "a3c32bf3",
   "metadata": {},
   "outputs": [
    {
     "data": {
      "text/plain": [
       "<AxesSubplot:title={'center':'Most wanted categories in entery level'}, ylabel='StandardJobTitle'>"
      ]
     },
     "execution_count": 120,
     "metadata": {},
     "output_type": "execute_result"
    },
    {
     "data": {
      "image/png": "[encoded data removed]",
      "text/plain": [
       "<Figure size 432x288 with 1 Axes>"
      ]
     },
     "metadata": {},
     "output_type": "display_data"
    }
   ],
   "source": [
    "std_titlee = df_entry['StandardJobTitle'].value_counts()[:10]\n",
    "std_titlee.plot(kind = 'pie',title='Most wanted categories in entery level')"
   ]
  },
  {
   "cell_type": "code",
   "execution_count": 124,
   "id": "a74b6b51",
   "metadata": {},
   "outputs": [
    {
     "data": {
      "text/plain": [
       "<AxesSubplot:title={'center':'Top 10 companies'}, ylabel='company'>"
      ]
     },
     "execution_count": 124,
     "metadata": {},
     "output_type": "execute_result"
    },
    {
     "data": {
      "image/png": "[encoded data removed]",
      "text/plain": [
       "<Figure size 432x288 with 1 Axes>"
      ]
     },
     "metadata": {},
     "output_type": "display_data"
    }
   ],
   "source": [
    "cmp = df_entry['company'].value_counts()[:10]\n",
    "cmp.plot(kind = 'pie',title='Top 10 companies')"
   ]
  },
  {
   "cell_type": "code",
   "execution_count": 123,
   "id": "b73f18fe",
   "metadata": {},
   "outputs": [
    {
     "data": {
      "text/html": [
       "<div>\n",
       "<style scoped>\n",
       "    .dataframe tbody tr th:only-of-type {\n",
       "        vertical-align: middle;\n",
       "    }\n",
       "\n",
       "    .dataframe tbody tr th {\n",
       "        vertical-align: top;\n",
       "    }\n",
       "\n",
       "    .dataframe thead th {\n",
       "        text-align: right;\n",
       "    }\n",
       "</style>\n",
       "<table border=\"1\" class=\"dataframe\">\n",
       "  <thead>\n",
       "    <tr style=\"text-align: right;\">\n",
       "      <th></th>\n",
       "      <th>JobTitle</th>\n",
       "      <th>company</th>\n",
       "      <th>description</th>\n",
       "      <th>Level</th>\n",
       "      <th>Type</th>\n",
       "      <th>StandardJobTitle</th>\n",
       "    </tr>\n",
       "  </thead>\n",
       "  <tbody>\n",
       "    <tr>\n",
       "      <th>count</th>\n",
       "      <td>1623</td>\n",
       "      <td>1623</td>\n",
       "      <td>1623</td>\n",
       "      <td>1623</td>\n",
       "      <td>1623</td>\n",
       "      <td>1623</td>\n",
       "    </tr>\n",
       "    <tr>\n",
       "      <th>unique</th>\n",
       "      <td>1176</td>\n",
       "      <td>682</td>\n",
       "      <td>1609</td>\n",
       "      <td>1</td>\n",
       "      <td>3</td>\n",
       "      <td>2</td>\n",
       "    </tr>\n",
       "    <tr>\n",
       "      <th>top</th>\n",
       "      <td>Business Analyst</td>\n",
       "      <td>Confidential</td>\n",
       "      <td>Full Time · Experienced · 2+ Yrs of Exp · Bus...</td>\n",
       "      <td>Experienced</td>\n",
       "      <td>Full Time</td>\n",
       "      <td>Software Engneering</td>\n",
       "    </tr>\n",
       "    <tr>\n",
       "      <th>freq</th>\n",
       "      <td>13</td>\n",
       "      <td>170</td>\n",
       "      <td>4</td>\n",
       "      <td>1623</td>\n",
       "      <td>1588</td>\n",
       "      <td>1541</td>\n",
       "    </tr>\n",
       "  </tbody>\n",
       "</table>\n",
       "</div>"
      ],
      "text/plain": [
       "                JobTitle        company  \\\n",
       "count               1623           1623   \n",
       "unique              1176            682   \n",
       "top     Business Analyst   Confidential   \n",
       "freq                  13            170   \n",
       "\n",
       "                                              description        Level  \\\n",
       "count                                                1623         1623   \n",
       "unique                                               1609            1   \n",
       "top      Full Time · Experienced · 2+ Yrs of Exp · Bus...  Experienced   \n",
       "freq                                                    4         1623   \n",
       "\n",
       "             Type      StandardJobTitle  \n",
       "count        1623                  1623  \n",
       "unique          3                     2  \n",
       "top     Full Time  Software Engneering   \n",
       "freq         1588                  1541  "
      ]
     },
     "execution_count": 123,
     "metadata": {},
     "output_type": "execute_result"
    }
   ],
   "source": [
    "df_exp.describe()"
   ]
  },
  {
   "cell_type": "code",
   "execution_count": 125,
   "id": "a5d2fbbd",
   "metadata": {},
   "outputs": [
    {
     "data": {
      "text/plain": [
       "<AxesSubplot:title={'center':'Top 10 jobs'}, ylabel='JobTitle'>"
      ]
     },
     "execution_count": 125,
     "metadata": {},
     "output_type": "execute_result"
    },
    {
     "data": {
      "image/png": "[encoded data removed]",
      "text/plain": [
       "<Figure size 432x288 with 1 Axes>"
      ]
     },
     "metadata": {},
     "output_type": "display_data"
    }
   ],
   "source": [
    "title = df_exp['JobTitle'].value_counts()[:10]\n",
    "title.plot(kind = 'pie',title='Top 10 jobs')"
   ]
  },
  {
   "cell_type": "code",
   "execution_count": 127,
   "id": "0cc51207",
   "metadata": {},
   "outputs": [
    {
     "data": {
      "text/plain": [
       "<AxesSubplot:title={'center':'Most wanted categories in entery level'}>"
      ]
     },
     "execution_count": 127,
     "metadata": {},
     "output_type": "execute_result"
    },
    {
     "data": {
      "image/png": "[encoded data removed]",
      "text/plain": [
       "<Figure size 432x288 with 1 Axes>"
      ]
     },
     "metadata": {
      "needs_background": "light"
     },
     "output_type": "display_data"
    }
   ],
   "source": [
    "cmp = df_exp['company'].value_counts()[:10]\n",
    "cmp.plot(kind = 'bar',color='lime',title='Most wanted categories in entery level')"
   ]
  },
  {
   "cell_type": "code",
   "execution_count": 128,
   "id": "fb803f86",
   "metadata": {},
   "outputs": [
    {
     "data": {
      "text/html": [
       "<div>\n",
       "<style scoped>\n",
       "    .dataframe tbody tr th:only-of-type {\n",
       "        vertical-align: middle;\n",
       "    }\n",
       "\n",
       "    .dataframe tbody tr th {\n",
       "        vertical-align: top;\n",
       "    }\n",
       "\n",
       "    .dataframe thead th {\n",
       "        text-align: right;\n",
       "    }\n",
       "</style>\n",
       "<table border=\"1\" class=\"dataframe\">\n",
       "  <thead>\n",
       "    <tr style=\"text-align: right;\">\n",
       "      <th></th>\n",
       "      <th>JobTitle</th>\n",
       "      <th>company</th>\n",
       "      <th>description</th>\n",
       "      <th>Level</th>\n",
       "      <th>Type</th>\n",
       "      <th>StandardJobTitle</th>\n",
       "    </tr>\n",
       "  </thead>\n",
       "  <tbody>\n",
       "    <tr>\n",
       "      <th>count</th>\n",
       "      <td>364</td>\n",
       "      <td>364</td>\n",
       "      <td>364</td>\n",
       "      <td>364</td>\n",
       "      <td>364</td>\n",
       "      <td>364</td>\n",
       "    </tr>\n",
       "    <tr>\n",
       "      <th>unique</th>\n",
       "      <td>299</td>\n",
       "      <td>208</td>\n",
       "      <td>361</td>\n",
       "      <td>1</td>\n",
       "      <td>2</td>\n",
       "      <td>2</td>\n",
       "    </tr>\n",
       "    <tr>\n",
       "      <th>top</th>\n",
       "      <td>IT Manager</td>\n",
       "      <td>Confidential</td>\n",
       "      <td>Full Time · Manager · 5+ Yrs of Exp · Agricul...</td>\n",
       "      <td>Managerial</td>\n",
       "      <td>Full Time</td>\n",
       "      <td>Software Engneering</td>\n",
       "    </tr>\n",
       "    <tr>\n",
       "      <th>freq</th>\n",
       "      <td>9</td>\n",
       "      <td>74</td>\n",
       "      <td>2</td>\n",
       "      <td>364</td>\n",
       "      <td>363</td>\n",
       "      <td>338</td>\n",
       "    </tr>\n",
       "  </tbody>\n",
       "</table>\n",
       "</div>"
      ],
      "text/plain": [
       "          JobTitle        company  \\\n",
       "count          364            364   \n",
       "unique         299            208   \n",
       "top     IT Manager   Confidential   \n",
       "freq             9             74   \n",
       "\n",
       "                                              description       Level  \\\n",
       "count                                                 364         364   \n",
       "unique                                                361           1   \n",
       "top      Full Time · Manager · 5+ Yrs of Exp · Agricul...  Managerial   \n",
       "freq                                                    2         364   \n",
       "\n",
       "             Type      StandardJobTitle  \n",
       "count         364                   364  \n",
       "unique          2                     2  \n",
       "top     Full Time  Software Engneering   \n",
       "freq          363                   338  "
      ]
     },
     "execution_count": 128,
     "metadata": {},
     "output_type": "execute_result"
    }
   ],
   "source": [
    "df_mang.describe()"
   ]
  },
  {
   "cell_type": "code",
   "execution_count": 129,
   "id": "149c8289",
   "metadata": {},
   "outputs": [
    {
     "data": {
      "text/plain": [
       "<AxesSubplot:title={'center':'Top 10 jobs'}, ylabel='JobTitle'>"
      ]
     },
     "execution_count": 129,
     "metadata": {},
     "output_type": "execute_result"
    },
    {
     "data": {
      "image/png": "[encoded data removed]",
      "text/plain": [
       "<Figure size 432x288 with 1 Axes>"
      ]
     },
     "metadata": {},
     "output_type": "display_data"
    }
   ],
   "source": [
    "title = df_mang['JobTitle'].value_counts()[:10]\n",
    "title.plot(kind = 'pie',title='Top 10 jobs')"
   ]
  },
  {
   "cell_type": "code",
   "execution_count": 130,
   "id": "3f17add2",
   "metadata": {},
   "outputs": [
    {
     "data": {
      "text/plain": [
       "<AxesSubplot:title={'center':'Most wanted categories in entery level'}>"
      ]
     },
     "execution_count": 130,
     "metadata": {},
     "output_type": "execute_result"
    },
    {
     "data": {
      "image/png": "[encoded data removed]",
      "text/plain": [
       "<Figure size 432x288 with 1 Axes>"
      ]
     },
     "metadata": {
      "needs_background": "light"
     },
     "output_type": "display_data"
    }
   ],
   "source": [
    "cmp = df_exp['company'].value_counts()[:10]\n",
    "cmp.plot(kind = 'bar',color='lime',title='Most wanted categories in entery level')"
   ]
  },
  {
   "cell_type": "code",
   "execution_count": null,
   "id": "8831a5f7",
   "metadata": {},
   "outputs": [],
   "source": []
  }
 ],
 "metadata": {
  "kernelspec": {
   "display_name": "Python 3",
   "language": "python",
   "name": "python3"
  },
  "language_info": {
   "codemirror_mode": {
    "name": "ipython",
    "version": 3
   },
   "file_extension": ".py",
   "mimetype": "text/x-python",
   "name": "python",
   "nbconvert_exporter": "python",
   "pygments_lexer": "ipython3",
   "version": "3.9.5"
  }
 },
 "nbformat": 4,
 "nbformat_minor": 5
}
